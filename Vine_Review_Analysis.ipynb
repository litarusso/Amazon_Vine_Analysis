{
 "cells": [
  {
   "cell_type": "code",
   "execution_count": 1,
   "id": "93a9f93a",
   "metadata": {},
   "outputs": [],
   "source": [
    "import pandas as pd"
   ]
  },
  {
   "cell_type": "code",
   "execution_count": 3,
   "id": "8c0a0669",
   "metadata": {},
   "outputs": [
    {
     "data": {
      "text/plain": [
       "(2643619, 6)"
      ]
     },
     "execution_count": 3,
     "metadata": {},
     "output_type": "execute_result"
    }
   ],
   "source": [
    "vine_df = pd.read_csv(\"vine_table.csv\")\n",
    "vine_df.shape"
   ]
  },
  {
   "cell_type": "code",
   "execution_count": 4,
   "id": "4d8606fe",
   "metadata": {},
   "outputs": [
    {
     "data": {
      "text/html": [
       "<div>\n",
       "<style scoped>\n",
       "    .dataframe tbody tr th:only-of-type {\n",
       "        vertical-align: middle;\n",
       "    }\n",
       "\n",
       "    .dataframe tbody tr th {\n",
       "        vertical-align: top;\n",
       "    }\n",
       "\n",
       "    .dataframe thead th {\n",
       "        text-align: right;\n",
       "    }\n",
       "</style>\n",
       "<table border=\"1\" class=\"dataframe\">\n",
       "  <thead>\n",
       "    <tr style=\"text-align: right;\">\n",
       "      <th></th>\n",
       "      <th>review_id</th>\n",
       "      <th>star_rating</th>\n",
       "      <th>helpful_votes</th>\n",
       "      <th>total_votes</th>\n",
       "      <th>vine</th>\n",
       "      <th>verified_purchase</th>\n",
       "    </tr>\n",
       "  </thead>\n",
       "  <tbody>\n",
       "    <tr>\n",
       "      <th>0</th>\n",
       "      <td>REAKC26P07MDN</td>\n",
       "      <td>5.0</td>\n",
       "      <td>0.0</td>\n",
       "      <td>0.0</td>\n",
       "      <td>N</td>\n",
       "      <td>Y</td>\n",
       "    </tr>\n",
       "    <tr>\n",
       "      <th>1</th>\n",
       "      <td>R3NU7OMZ4HQIEG</td>\n",
       "      <td>2.0</td>\n",
       "      <td>0.0</td>\n",
       "      <td>1.0</td>\n",
       "      <td>N</td>\n",
       "      <td>Y</td>\n",
       "    </tr>\n",
       "    <tr>\n",
       "      <th>2</th>\n",
       "      <td>R14QJW3XF8QO1P</td>\n",
       "      <td>5.0</td>\n",
       "      <td>0.0</td>\n",
       "      <td>0.0</td>\n",
       "      <td>N</td>\n",
       "      <td>Y</td>\n",
       "    </tr>\n",
       "    <tr>\n",
       "      <th>3</th>\n",
       "      <td>R2HB7AX0394ZGY</td>\n",
       "      <td>5.0</td>\n",
       "      <td>0.0</td>\n",
       "      <td>0.0</td>\n",
       "      <td>N</td>\n",
       "      <td>Y</td>\n",
       "    </tr>\n",
       "    <tr>\n",
       "      <th>4</th>\n",
       "      <td>RGKMPDQGSAHR3</td>\n",
       "      <td>5.0</td>\n",
       "      <td>0.0</td>\n",
       "      <td>0.0</td>\n",
       "      <td>N</td>\n",
       "      <td>Y</td>\n",
       "    </tr>\n",
       "  </tbody>\n",
       "</table>\n",
       "</div>"
      ],
      "text/plain": [
       "        review_id  star_rating  helpful_votes  total_votes vine  \\\n",
       "0   REAKC26P07MDN          5.0            0.0          0.0    N   \n",
       "1  R3NU7OMZ4HQIEG          2.0            0.0          1.0    N   \n",
       "2  R14QJW3XF8QO1P          5.0            0.0          0.0    N   \n",
       "3  R2HB7AX0394ZGY          5.0            0.0          0.0    N   \n",
       "4   RGKMPDQGSAHR3          5.0            0.0          0.0    N   \n",
       "\n",
       "  verified_purchase  \n",
       "0                 Y  \n",
       "1                 Y  \n",
       "2                 Y  \n",
       "3                 Y  \n",
       "4                 Y  "
      ]
     },
     "execution_count": 4,
     "metadata": {},
     "output_type": "execute_result"
    }
   ],
   "source": [
    "vine_df.head()"
   ]
  },
  {
   "cell_type": "code",
   "execution_count": 5,
   "id": "1447906e",
   "metadata": {},
   "outputs": [
    {
     "data": {
      "text/plain": [
       "review_id             object\n",
       "star_rating          float64\n",
       "helpful_votes        float64\n",
       "total_votes          float64\n",
       "vine                  object\n",
       "verified_purchase     object\n",
       "dtype: object"
      ]
     },
     "execution_count": 5,
     "metadata": {},
     "output_type": "execute_result"
    }
   ],
   "source": [
    "vine_df.dtypes"
   ]
  },
  {
   "cell_type": "code",
   "execution_count": 6,
   "id": "21288893",
   "metadata": {},
   "outputs": [
    {
     "data": {
      "text/plain": [
       "(39376, 6)"
      ]
     },
     "execution_count": 6,
     "metadata": {},
     "output_type": "execute_result"
    }
   ],
   "source": [
    "vine_df2 = vine_df [vine_df[\"total_votes\"]>=20].copy()\n",
    "vine_df2.shape"
   ]
  },
  {
   "cell_type": "code",
   "execution_count": 7,
   "id": "4b3dd3a0",
   "metadata": {},
   "outputs": [
    {
     "data": {
      "text/plain": [
       "(38010, 6)"
      ]
     },
     "execution_count": 7,
     "metadata": {},
     "output_type": "execute_result"
    }
   ],
   "source": [
    "vine_df3 = vine_df2 [vine_df2[\"helpful_votes\"]/vine_df2[\"total_votes\"]>=0.5].copy()\n",
    "vine_df3.shape"
   ]
  },
  {
   "cell_type": "code",
   "execution_count": 8,
   "id": "613c8f45",
   "metadata": {},
   "outputs": [
    {
     "data": {
      "text/plain": [
       "(170, 6)"
      ]
     },
     "execution_count": 8,
     "metadata": {},
     "output_type": "execute_result"
    }
   ],
   "source": [
    "vine_df_y = vine_df3 [vine_df3[\"vine\"]==\"Y\"].copy()\n",
    "vine_df_y.shape"
   ]
  },
  {
   "cell_type": "code",
   "execution_count": 9,
   "id": "9204427f",
   "metadata": {},
   "outputs": [
    {
     "data": {
      "text/plain": [
       "(37840, 6)"
      ]
     },
     "execution_count": 9,
     "metadata": {},
     "output_type": "execute_result"
    }
   ],
   "source": [
    "vine_df_n = vine_df3 [vine_df3[\"vine\"]==\"N\"].copy()\n",
    "vine_df_n.shape"
   ]
  },
  {
   "cell_type": "markdown",
   "id": "9614f09d",
   "metadata": {},
   "source": [
    "# Analysis for paid reviews"
   ]
  },
  {
   "cell_type": "code",
   "execution_count": 10,
   "id": "022b6967",
   "metadata": {},
   "outputs": [
    {
     "data": {
      "text/plain": [
       "170"
      ]
     },
     "execution_count": 10,
     "metadata": {},
     "output_type": "execute_result"
    }
   ],
   "source": [
    "#Paid Total Number Of Reviews\n",
    "num_paid_rev = vine_df_y.shape[0]\n",
    "num_paid_rev"
   ]
  },
  {
   "cell_type": "code",
   "execution_count": 12,
   "id": "7c64b4d0",
   "metadata": {},
   "outputs": [
    {
     "data": {
      "text/plain": [
       "65"
      ]
     },
     "execution_count": 12,
     "metadata": {},
     "output_type": "execute_result"
    }
   ],
   "source": [
    "#Paid 5Star Reviews\n",
    "vine_df_y_5 = vine_df_y [vine_df_y[\"star_rating\"]==5].copy()\n",
    "num_paid_rev_5 = vine_df_y_5.shape[0]\n",
    "num_paid_rev_5"
   ]
  },
  {
   "cell_type": "code",
   "execution_count": 14,
   "id": "50693965",
   "metadata": {},
   "outputs": [
    {
     "data": {
      "text/plain": [
       "38.24"
      ]
     },
     "execution_count": 14,
     "metadata": {},
     "output_type": "execute_result"
    }
   ],
   "source": [
    "#Paid 5Star Review Percentage\n",
    "per_paid_rev_5 = round(num_paid_rev_5/num_paid_rev * 100,2)\n",
    "per_paid_rev_5 "
   ]
  },
  {
   "cell_type": "markdown",
   "id": "92592615",
   "metadata": {},
   "source": [
    "# Analysis for unpaid reviews\n"
   ]
  },
  {
   "cell_type": "code",
   "execution_count": 15,
   "id": "69def98c",
   "metadata": {},
   "outputs": [
    {
     "data": {
      "text/plain": [
       "37840"
      ]
     },
     "execution_count": 15,
     "metadata": {},
     "output_type": "execute_result"
    }
   ],
   "source": [
    "#Unpaid Total Number Of Reviews\n",
    "num_unpaid_rev = vine_df_n.shape[0]\n",
    "num_unpaid_rev"
   ]
  },
  {
   "cell_type": "code",
   "execution_count": 16,
   "id": "1bac628a",
   "metadata": {},
   "outputs": [
    {
     "data": {
      "text/plain": [
       "20612"
      ]
     },
     "execution_count": 16,
     "metadata": {},
     "output_type": "execute_result"
    }
   ],
   "source": [
    "#Unpaid Total Number Of Reviews\n",
    "vine_df_n_5 = vine_df_n [vine_df_n[\"star_rating\"]==5].copy()\n",
    "num_unpaid_rev_5 = vine_df_n_5.shape[0]\n",
    "num_unpaid_rev_5"
   ]
  },
  {
   "cell_type": "code",
   "execution_count": 17,
   "id": "6b5b6071",
   "metadata": {},
   "outputs": [
    {
     "data": {
      "text/plain": [
       "54.47"
      ]
     },
     "execution_count": 17,
     "metadata": {},
     "output_type": "execute_result"
    }
   ],
   "source": [
    "#Unpaid 5Star Review Percentage\n",
    "per_unpaid_rev_5 = round(num_unpaid_rev_5/num_unpaid_rev * 100,2)\n",
    "per_unpaid_rev_5 "
   ]
  },
  {
   "cell_type": "code",
   "execution_count": null,
   "id": "a5dc8932",
   "metadata": {},
   "outputs": [],
   "source": []
  }
 ],
 "metadata": {
  "kernelspec": {
   "display_name": "Python 3 (ipykernel)",
   "language": "python",
   "name": "python3"
  },
  "language_info": {
   "codemirror_mode": {
    "name": "ipython",
    "version": 3
   },
   "file_extension": ".py",
   "mimetype": "text/x-python",
   "name": "python",
   "nbconvert_exporter": "python",
   "pygments_lexer": "ipython3",
   "version": "3.7.13"
  }
 },
 "nbformat": 4,
 "nbformat_minor": 5
}
